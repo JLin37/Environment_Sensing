{
 "cells": [
  {
   "cell_type": "code",
   "execution_count": 1,
   "metadata": {},
   "outputs": [],
   "source": [
    "import pandas as pd\n",
    "import numpy as np\n",
    "from sklearn.externals import joblib\n",
    "from utils.classifications_utils import *\n",
    "from utils.data_processing_utils_lin_edit import *\n",
    "from utils.data_visualization_utils import *\n",
    "from utils.metrics_utils import *\n",
    "from utils.grid_search_utils import *\n",
    "from sklearn.model_selection import train_test_split\n",
    "from sklearn.ensemble import ExtraTreesClassifier, RandomForestClassifier, AdaBoostClassifier\n",
    "from sklearn.preprocessing import MinMaxScaler\n",
    "import matplotlib.pyplot as plt\n",
    "from scipy import signal\n",
    "from utils.reduce_noise_utils import *\n",
    "import pickle\n",
    "import warnings\n",
    "warnings.filterwarnings(\"ignore\")\n",
    "%matplotlib inline"
   ]
  },
  {
   "cell_type": "markdown",
   "metadata": {},
   "source": [
    "# Drone 1 Data"
   ]
  },
  {
   "cell_type": "code",
   "execution_count": 2,
   "metadata": {},
   "outputs": [],
   "source": [
    "#specify Project and drone data\n",
    "project = \"Project 3\"\n",
    "drone_in_use = \"drone1\""
   ]
  },
  {
   "cell_type": "code",
   "execution_count": 3,
   "metadata": {},
   "outputs": [],
   "source": [
    "level_0_wind = load_data(0, 3, project, drone_in_use)\n",
    "level_0_wind = separate_data_based_on_apparatus(level_0_wind)\n",
    "\n",
    "level_1_wind = load_data(1, 3, project, drone_in_use)\n",
    "level_1_wind = separate_data_based_on_apparatus(level_1_wind)\n",
    "\n",
    "level_2_wind = load_data(2, 3, project, drone_in_use)\n",
    "level_2_wind = separate_data_based_on_apparatus(level_2_wind)\n",
    "\n",
    "# level_3_wind = load_data(3, 3, project, drone_in_use)\n",
    "# level_3_wind = separate_data_based_on_apparatus(level_3_wind)\n",
    "\n",
    "# level_4_wind = load_data(4, 3, project, drone_in_use)\n",
    "# level_4_wind = separate_data_based_on_apparatus(level_4_wind)\n",
    "\n",
    "# # display(level_0_wind.keys())"
   ]
  },
  {
   "cell_type": "code",
   "execution_count": 4,
   "metadata": {},
   "outputs": [],
   "source": [
    "acc_no_wind, gyro_no_wind, _, stab_no_wind = level_0_wind.values()\n",
    "label_0 = [0 for x in range(acc_no_wind.shape[0])]\n",
    "\n",
    "acc_level_1_wind, gyro_level_1_wind, _, stab_level_1 = level_1_wind.values()\n",
    "label_1 = [1 for x in range(acc_level_1_wind.shape[0])]\n",
    "\n",
    "acc_level_2_wind, gyro_level_2_wind, _, stab_level_2 = level_2_wind.values()\n",
    "label_2 = [2 for x in range(acc_level_2_wind.shape[0])]\n",
    "\n",
    "# acc_level_3_wind, gyro_level_3_wind, _, stab_level_3 = level_3_wind.values()\n",
    "# label_3 = [3 for x in range(acc_level_3_wind.shape[0])]\n",
    "\n",
    "# acc_level_4_wind, gyro_level_4_wind, _, stab_level_4 = level_4_wind.values()\n",
    "# label_4 = [4 for x in range(acc_level_4_wind.shape[0])]"
   ]
  },
  {
   "cell_type": "markdown",
   "metadata": {},
   "source": [
    "# Split test and train Data"
   ]
  },
  {
   "cell_type": "code",
   "execution_count": 5,
   "metadata": {},
   "outputs": [],
   "source": [
    "X_train_stab_0, X_test_stab_0, y_train_stab_0, y_test_stab_0 = \\\n",
    "train_test_split(stab_no_wind, label_0, test_size=0.1, shuffle=False)"
   ]
  },
  {
   "cell_type": "code",
   "execution_count": 6,
   "metadata": {},
   "outputs": [],
   "source": [
    "X_train_stab_1, X_test_stab_1, y_train_stab_1, y_test_stab_1 = \\\n",
    "train_test_split(stab_level_1, label_1, test_size=0.1, shuffle=False)"
   ]
  },
  {
   "cell_type": "code",
   "execution_count": 7,
   "metadata": {},
   "outputs": [],
   "source": [
    "X_train_stab_2, X_test_stab_2, y_train_stab_2, y_test_stab_2 = \\\n",
    "train_test_split(stab_level_2, label_2, test_size=0.1, shuffle=False)"
   ]
  },
  {
   "cell_type": "code",
   "execution_count": 8,
   "metadata": {},
   "outputs": [],
   "source": [
    "# X_train_stab_3, X_test_stab_3, y_train_stab_3, y_test_stab_3 = \\\n",
    "# train_test_split(stab_level_3, label_3, test_size=0.1, shuffle=False)"
   ]
  },
  {
   "cell_type": "code",
   "execution_count": 9,
   "metadata": {},
   "outputs": [],
   "source": [
    "# X_train_stab_4, X_test_stab_4, y_train_stab_4, y_test_stab_4 = \\\n",
    "# train_test_split(stab_level_4, label_4, test_size=0.1, shuffle=False)"
   ]
  },
  {
   "cell_type": "markdown",
   "metadata": {},
   "source": [
    "# Stack data up"
   ]
  },
  {
   "cell_type": "code",
   "execution_count": 10,
   "metadata": {
    "scrolled": true
   },
   "outputs": [],
   "source": [
    "X_train_stab = X_train_stab_0.append(X_train_stab_1)\n",
    "X_train_stab = X_train_stab.append(X_train_stab_2)\n",
    "# X_train_stab = X_train_stab.append(X_train_stab_3)\n",
    "# X_train_stab = X_train_stab.append(X_train_stab_4)\n",
    "y_train_stab = np.hstack((y_train_stab_0, y_train_stab_1, y_train_stab_2))"
   ]
  },
  {
   "cell_type": "code",
   "execution_count": 11,
   "metadata": {},
   "outputs": [],
   "source": [
    "X_test_stab = X_test_stab_0.append(X_test_stab_1)\n",
    "X_test_stab = X_test_stab.append(X_test_stab_2)\n",
    "# X_test_stab = X_test_stab.append(X_test_stab_3)\n",
    "# X_test_stab = X_test_stab.append(X_test_stab_4)\n",
    "y_test_stab = np.hstack((y_test_stab_0, y_test_stab_1, y_test_stab_2))"
   ]
  },
  {
   "cell_type": "markdown",
   "metadata": {},
   "source": [
    "# Transform and generate features"
   ]
  },
  {
   "cell_type": "code",
   "execution_count": 12,
   "metadata": {},
   "outputs": [],
   "source": [
    "from transformers.featureGenerator import FeatureGenerator"
   ]
  },
  {
   "cell_type": "code",
   "execution_count": 13,
   "metadata": {
    "scrolled": true
   },
   "outputs": [
    {
     "data": {
      "text/plain": [
       "FeatureGenerator(sliding_window=1)"
      ]
     },
     "execution_count": 13,
     "metadata": {},
     "output_type": "execute_result"
    }
   ],
   "source": [
    "feature_generator_stab2 = FeatureGenerator(1)\n",
    "feature_generator_stab2.fit(X_train_stab, 3)"
   ]
  },
  {
   "cell_type": "code",
   "execution_count": 14,
   "metadata": {
    "scrolled": true
   },
   "outputs": [
    {
     "name": "stdout",
     "output_type": "stream",
     "text": [
      "5301\n"
     ]
    }
   ],
   "source": [
    "X_train_stab = feature_generator_stab2.transform(X_train_stab, 'stab')\n",
    "y_train_stab = reduce_label_amount(y_train_stab, 3)"
   ]
  },
  {
   "cell_type": "code",
   "execution_count": 15,
   "metadata": {},
   "outputs": [
    {
     "data": {
      "text/plain": [
       "FeatureGenerator(sliding_window=1)"
      ]
     },
     "execution_count": 15,
     "metadata": {},
     "output_type": "execute_result"
    }
   ],
   "source": [
    "feature_generator_stab_test2 = FeatureGenerator(1)\n",
    "feature_generator_stab_test2.fit(X_test_stab, 3)"
   ]
  },
  {
   "cell_type": "code",
   "execution_count": 16,
   "metadata": {},
   "outputs": [
    {
     "name": "stdout",
     "output_type": "stream",
     "text": [
      "501\n"
     ]
    }
   ],
   "source": [
    "X_test_stab = feature_generator_stab_test2.transform(X_test_stab, 'stab')\n",
    "y_test_stab = reduce_label_amount(y_test_stab, 3)"
   ]
  },
  {
   "cell_type": "code",
   "execution_count": 17,
   "metadata": {},
   "outputs": [
    {
     "data": {
      "text/plain": [
       "RandomForestClassifier(bootstrap=True, class_weight=None, criterion='gini',\n",
       "            max_depth=None, max_features='auto', max_leaf_nodes=None,\n",
       "            min_impurity_decrease=0.0, min_impurity_split=None,\n",
       "            min_samples_leaf=1, min_samples_split=2,\n",
       "            min_weight_fraction_leaf=0.0, n_estimators=150, n_jobs=None,\n",
       "            oob_score=False, random_state=None, verbose=0,\n",
       "            warm_start=False)"
      ]
     },
     "execution_count": 17,
     "metadata": {},
     "output_type": "execute_result"
    }
   ],
   "source": [
    "clf_stab2 = RandomForestClassifier(n_estimators=150)\n",
    "clf_stab2.fit(X_train_stab, y_train_stab)"
   ]
  },
  {
   "cell_type": "code",
   "execution_count": 18,
   "metadata": {},
   "outputs": [],
   "source": [
    "pickle.dump(clf_stab2, open(\"pickled_models/inmotion_randomforest_stab_\" + drone_in_use + \".sav\", 'wb'))"
   ]
  },
  {
   "cell_type": "code",
   "execution_count": 19,
   "metadata": {},
   "outputs": [],
   "source": [
    "y_pred_stab = clf_stab2.predict(X_test_stab)"
   ]
  },
  {
   "cell_type": "code",
   "execution_count": 20,
   "metadata": {
    "scrolled": true
   },
   "outputs": [
    {
     "data": {
      "text/html": [
       "<div>\n",
       "<style scoped>\n",
       "    .dataframe tbody tr th:only-of-type {\n",
       "        vertical-align: middle;\n",
       "    }\n",
       "\n",
       "    .dataframe tbody tr th {\n",
       "        vertical-align: top;\n",
       "    }\n",
       "\n",
       "    .dataframe thead th {\n",
       "        text-align: right;\n",
       "    }\n",
       "</style>\n",
       "<table border=\"1\" class=\"dataframe\">\n",
       "  <thead>\n",
       "    <tr style=\"text-align: right;\">\n",
       "      <th></th>\n",
       "      <th>actual_0</th>\n",
       "      <th>actual_1</th>\n",
       "      <th>actual_2</th>\n",
       "    </tr>\n",
       "  </thead>\n",
       "  <tbody>\n",
       "    <tr>\n",
       "      <th>predicted_0</th>\n",
       "      <td>501</td>\n",
       "      <td>0</td>\n",
       "      <td>0</td>\n",
       "    </tr>\n",
       "    <tr>\n",
       "      <th>predicted_1</th>\n",
       "      <td>0</td>\n",
       "      <td>346</td>\n",
       "      <td>155</td>\n",
       "    </tr>\n",
       "    <tr>\n",
       "      <th>predicted_2</th>\n",
       "      <td>0</td>\n",
       "      <td>76</td>\n",
       "      <td>425</td>\n",
       "    </tr>\n",
       "  </tbody>\n",
       "</table>\n",
       "</div>"
      ],
      "text/plain": [
       "             actual_0  actual_1  actual_2\n",
       "predicted_0       501         0         0\n",
       "predicted_1         0       346       155\n",
       "predicted_2         0        76       425"
      ]
     },
     "execution_count": 20,
     "metadata": {},
     "output_type": "execute_result"
    }
   ],
   "source": [
    "get_confusion_matrix(y_test_stab, y_pred_stab)"
   ]
  },
  {
   "cell_type": "code",
   "execution_count": 21,
   "metadata": {},
   "outputs": [
    {
     "data": {
      "text/plain": [
       "0.846307385229541"
      ]
     },
     "execution_count": 21,
     "metadata": {},
     "output_type": "execute_result"
    }
   ],
   "source": [
    "clf_stab2.score(X_test_stab, y_test_stab)"
   ]
  }
 ],
 "metadata": {
  "kernelspec": {
   "display_name": "Python 3",
   "language": "python",
   "name": "python3"
  },
  "language_info": {
   "codemirror_mode": {
    "name": "ipython",
    "version": 3
   },
   "file_extension": ".py",
   "mimetype": "text/x-python",
   "name": "python",
   "nbconvert_exporter": "python",
   "pygments_lexer": "ipython3",
   "version": "3.6.6"
  }
 },
 "nbformat": 4,
 "nbformat_minor": 2
}
